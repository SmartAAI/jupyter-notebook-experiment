import numpy as np
import matplotlib.pyplot as plt
from ipywidgets import interact, FloatSlider, FloatText, Button, VBox, HBox, Output
from IPython.display import display, clear_output

# Define a function to simulate the dose-response curve
def dose_response(dose, ec50, hill_coefficient, max_response):
    response = max_response * (dose ** hill_coefficient) / (ec50 ** hill_coefficient + dose ** hill_coefficient)
    return response

# Function to update the plot
def update_plot(ec50, hill_coefficient, max_response):
    doses = np.logspace(-9, -3, 100)  # Doses from 1nM to 1mM
    responses = dose_response(doses, ec50, hill_coefficient, max_response)
    
    plt.figure(figsize=(8, 6))
    plt.plot(doses, responses, label=f'EC50={ec50}, Hill={hill_coefficient}, Max={max_response}')
    plt.xscale('log')
    plt.xlabel('Dose (M)')
    plt.ylabel('Response')
    plt.title('Dose-Response Curve for Acetylcholine')
    plt.legend()
    plt.grid(True)
    plt.show()

# Function to calculate and display response for a given dose and update the plot
def calculate_response_and_plot(dose, ec50, hill_coefficient, max_response):
    response = dose_response(dose, ec50, hill_coefficient, max_response)
    random_factor = np.random.normal(1, 0.1)  # Adding some randomness
    response *= random_factor
    
    doses = np.logspace(-9, -3, 100)  # Doses from 1nM to 1mM
    responses = dose_response(doses, ec50, hill_coefficient, max_response)
    
    with response_output:
        clear_output(wait=True)
        plt.figure(figsize=(8, 6))
        plt.plot(doses, responses, label=f'EC50={ec50}, Hill={hill_coefficient}, Max={max_response}')
        plt.scatter([dose], [response], color='red')  # Plot the entered dose
        plt.xscale('log')
        plt.xlabel('Dose (M)')
        plt.ylabel('Response')
        plt.title('Dose-Response Curve for Acetylcholine')
        plt.legend()
        plt.grid(True)
        plt.show()
        print(f"Response for dose {dose:.1e} M: {response:.2f}")

# Create interactive widgets
ec50_slider = FloatSlider(value=1e-6, min=1e-9, max=1e-3, step=1e-9, description='EC50 (M)')
hill_slider = FloatSlider(value=1.0, min=0.1, max=2.0, step=0.1, description='Hill Coefficient')
max_response_slider = FloatSlider(value=1.0, min=0.1, max=2.0, step=0.1, description='Max Response')

dose_input = FloatText(value=1e-6, description='Dose (M):')
response_output = Output()

# Button to calculate response and update the plot
calculate_button = Button(description="Inject Acetylcholine")

# Function to handle button click
def on_calculate_button_clicked(b):
    dose = dose_input.value
    ec50 = ec50_slider.value
    hill_coefficient = hill_slider.value
    max_response = max_response_slider.value
    print(f"Injecting dose: {dose}, EC50: {ec50}, Hill: {hill_coefficient}, Max Response: {max_response}")  # Debug print
    calculate_response_and_plot(dose, ec50, hill_coefficient, max_response)

calculate_button.on_click(on_calculate_button_clicked)

# Layout the widgets
controls = VBox([
    ec50_slider,
    hill_slider,
    max_response_slider,
    HBox([dose_input, calculate_button]),
    response_output
])

# Display the interactive widgets and plot
interact(update_plot, ec50=ec50_slider, hill_coefficient=hill_slider, max_response=max_response_slider)
display(controls)
