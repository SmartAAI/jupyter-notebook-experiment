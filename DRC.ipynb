{
 "cells": [
  {
   "cell_type": "code",
   "execution_count": 1,
   "id": "3d8ce056-ce62-4fe1-a1c6-5e9e79d5ae1c",
   "metadata": {},
   "outputs": [
    {
     "data": {
      "application/vnd.jupyter.widget-view+json": {
       "model_id": "af58c1700e93489a9378836ef3a8d3b3",
       "version_major": 2,
       "version_minor": 0
      },
      "text/plain": [
       "interactive(children=(FloatSlider(value=1e-06, description='EC50 (M)', max=0.001, min=1e-09, step=1e-09), Floa…"
      ]
     },
     "metadata": {},
     "output_type": "display_data"
    },
    {
     "data": {
      "application/vnd.jupyter.widget-view+json": {
       "model_id": "f6f78f61c53f446aa81e3b02a3f06636",
       "version_major": 2,
       "version_minor": 0
      },
      "text/plain": [
       "VBox(children=(FloatSlider(value=1e-06, description='EC50 (M)', max=0.001, min=1e-09, step=1e-09), FloatSlider…"
      ]
     },
     "metadata": {},
     "output_type": "display_data"
    }
   ],
   "source": [
    "import numpy as np\n",
    "import matplotlib.pyplot as plt\n",
    "from ipywidgets import interact, FloatSlider, FloatText, Button, VBox, HBox, Output\n",
    "from IPython.display import display, clear_output\n",
    "\n",
    "# Define a function to simulate the dose-response curve\n",
    "def dose_response(dose, ec50, hill_coefficient, max_response):\n",
    "    response = max_response * (dose ** hill_coefficient) / (ec50 ** hill_coefficient + dose ** hill_coefficient)\n",
    "    return response\n",
    "\n",
    "# Function to update the plot\n",
    "def update_plot(ec50, hill_coefficient, max_response):\n",
    "    doses = np.logspace(-9, -3, 100)  # Doses from 1nM to 1mM\n",
    "    responses = dose_response(doses, ec50, hill_coefficient, max_response)\n",
    "    \n",
    "    plt.figure(figsize=(8, 6))\n",
    "    plt.plot(doses, responses, label=f'EC50={ec50}, Hill={hill_coefficient}, Max={max_response}')\n",
    "    plt.xscale('log')\n",
    "    plt.xlabel('Dose (M)')\n",
    "    plt.ylabel('Response')\n",
    "    plt.title('Dose-Response Curve for Acetylcholine')\n",
    "    plt.legend()\n",
    "    plt.grid(True)\n",
    "    plt.show()\n",
    "\n",
    "# Function to calculate and display response for a given dose and update the plot\n",
    "def calculate_response_and_plot(dose, ec50, hill_coefficient, max_response):\n",
    "    response = dose_response(dose, ec50, hill_coefficient, max_response)\n",
    "    random_factor = np.random.normal(1, 0.1)  # Adding some randomness\n",
    "    response *= random_factor\n",
    "    \n",
    "    doses = np.logspace(-9, -3, 100)  # Doses from 1nM to 1mM\n",
    "    responses = dose_response(doses, ec50, hill_coefficient, max_response)\n",
    "    \n",
    "    with response_output:\n",
    "        clear_output(wait=True)\n",
    "        plt.figure(figsize=(8, 6))\n",
    "        plt.plot(doses, responses, label=f'EC50={ec50}, Hill={hill_coefficient}, Max={max_response}')\n",
    "        plt.scatter([dose], [response], color='red')  # Plot the entered dose\n",
    "        plt.xscale('log')\n",
    "        plt.xlabel('Dose (M)')\n",
    "        plt.ylabel('Response')\n",
    "        plt.title('Dose-Response Curve for Acetylcholine')\n",
    "        plt.legend()\n",
    "        plt.grid(True)\n",
    "        plt.show()\n",
    "        print(f\"Response for dose {dose:.1e} M: {response:.2f}\")\n",
    "\n",
    "# Create interactive widgets\n",
    "ec50_slider = FloatSlider(value=1e-6, min=1e-9, max=1e-3, step=1e-9, description='EC50 (M)')\n",
    "hill_slider = FloatSlider(value=1.0, min=0.1, max=2.0, step=0.1, description='Hill Coefficient')\n",
    "max_response_slider = FloatSlider(value=1.0, min=0.1, max=2.0, step=0.1, description='Max Response')\n",
    "\n",
    "dose_input = FloatText(value=1e-6, description='Dose (M):')\n",
    "response_output = Output()\n",
    "\n",
    "# Button to calculate response and update the plot\n",
    "calculate_button = Button(description=\"Inject Acetylcholine\")\n",
    "\n",
    "# Function to handle button click\n",
    "def on_calculate_button_clicked(b):\n",
    "    dose = dose_input.value\n",
    "    ec50 = ec50_slider.value\n",
    "    hill_coefficient = hill_slider.value\n",
    "    max_response = max_response_slider.value\n",
    "    print(f\"Injecting dose: {dose}, EC50: {ec50}, Hill: {hill_coefficient}, Max Response: {max_response}\")  # Debug print\n",
    "    calculate_response_and_plot(dose, ec50, hill_coefficient, max_response)\n",
    "\n",
    "calculate_button.on_click(on_calculate_button_clicked)\n",
    "\n",
    "# Layout the widgets\n",
    "controls = VBox([\n",
    "    ec50_slider,\n",
    "    hill_slider,\n",
    "    max_response_slider,\n",
    "    HBox([dose_input, calculate_button]),\n",
    "    response_output\n",
    "])\n",
    "\n",
    "# Display the interactive widgets and plot\n",
    "interact(update_plot, ec50=ec50_slider, hill_coefficient=hill_slider, max_response=max_response_slider)\n",
    "display(controls)\n"
   ]
  },
  {
   "cell_type": "code",
   "execution_count": null,
   "id": "8fb5e80f-cbb6-4035-a0c1-9da35b1e939f",
   "metadata": {},
   "outputs": [],
   "source": []
  }
 ],
 "metadata": {
  "kernelspec": {
   "display_name": "Python 3 (ipykernel)",
   "language": "python",
   "name": "python3"
  },
  "language_info": {
   "codemirror_mode": {
    "name": "ipython",
    "version": 3
   },
   "file_extension": ".py",
   "mimetype": "text/x-python",
   "name": "python",
   "nbconvert_exporter": "python",
   "pygments_lexer": "ipython3",
   "version": "3.11.1"
  }
 },
 "nbformat": 4,
 "nbformat_minor": 5
}
